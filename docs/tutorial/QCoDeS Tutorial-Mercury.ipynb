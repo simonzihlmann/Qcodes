{
 "cells": [
  {
   "cell_type": "markdown",
   "metadata": {},
   "source": [
    "# QCoDeS Tutorial-Mercury"
   ]
  },
  {
   "cell_type": "code",
   "execution_count": 1,
   "metadata": {},
   "outputs": [
    {
     "name": "stderr",
     "output_type": "stream",
     "text": [
      "C:\\Users\\meso\\Anaconda3\\envs\\qcodes\\lib\\site-packages\\h5py\\__init__.py:36: FutureWarning: Conversion of the second argument of issubdtype from `float` to `np.floating` is deprecated. In future, it will be treated as `np.float64 == np.dtype(float).type`.\n",
      "  from ._conv import register_converters as _register_converters\n"
     ]
    }
   ],
   "source": [
    "import numpy as np\n",
    "import time\n",
    "import matplotlib\n",
    "import matplotlib.pyplot as plt\n",
    "matplotlib.rc('figure', figsize=(15, 10))\n",
    "\n",
    "import qcodes as qc\n",
    "%matplotlib notebook\n"
   ]
  },
  {
   "cell_type": "code",
   "execution_count": 2,
   "metadata": {},
   "outputs": [
    {
     "name": "stderr",
     "output_type": "stream",
     "text": [
      "d:\\git_sync\\qcodes\\qcodes\\instrument\\parameter.py:209: UserWarning: Wrapping get method, original get method will not be directly accessible. It is recommended to define get_raw in your subclass instead.\n",
      "  warnings.warn('Wrapping get method, original get method will not '\n",
      "d:\\git_sync\\qcodes\\qcodes\\instrument\\parameter.py:216: UserWarning: Wrapping set method, original set method will not be directly accessible. It is recommended to define set_raw in your subclass instead.\n",
      "  warnings.warn('Wrapping set method, original set method will not '\n",
      "d:\\git_sync\\qcodes\\qcodes\\instrument\\parameter.py:1097: UserWarning: MultiParameters do not support set at this time.\n",
      "  warnings.warn('MultiParameters do not support set at this time.')\n"
     ]
    },
    {
     "name": "stdout",
     "output_type": "stream",
     "text": [
      "Connected to: IDN OXFORD INSTRUMENTS (serial:MERCURY IPS, firmware:NOT_FOUND:2.5.05.000) in 0.93s\n",
      "Connected to: IDN OXFORD INSTRUMENTS (serial:MERCURY IPS, firmware:NOT_FOUND:2.5.05.000) in 1.01s\n",
      "Connected to: IDN OXFORD INSTRUMENTS (serial:MERCURY IPS, firmware:NOT_FOUND:2.5.05.000) in 1.11s\n",
      "Connected to: IDN OXFORD INSTRUMENTS (serial:MERCURY IPS, firmware:NOT_FOUND:2.5.05.000) in 1.20s\n"
     ]
    }
   ],
   "source": [
    "from qcodes.instrument_drivers.oxford.mercuryiPS_VISA import MercuryiPS\n",
    "\n",
    "magnet = MercuryiPS(name = 'Magnet', address='ASRL5::INSTR')"
   ]
  },
  {
   "cell_type": "code",
   "execution_count": 13,
   "metadata": {},
   "outputs": [
    {
     "name": "stdout",
     "output_type": "stream",
     "text": [
      "['S', 'X', 'Y', 'Z']\n",
      "Current B_x: 0.000000 T\n",
      "Current I_x: 0.000005 A\n",
      "Status x:  HOLD\n"
     ]
    }
   ],
   "source": [
    "print(magnet.axes)\n",
    "\n",
    "print('Current B_x: {:f} T'.format(magnet.x_fld.get()))\n",
    "print('Current I_x: {:f} A'.format(magnet.x_fldC.get()))\n",
    "print('Status x: ', magnet.x_ACTN.get())\n"
   ]
  },
  {
   "cell_type": "code",
   "execution_count": 5,
   "metadata": {},
   "outputs": [
    {
     "data": {
      "text/plain": [
       "0.05"
      ]
     },
     "execution_count": 5,
     "metadata": {},
     "output_type": "execute_result"
    }
   ],
   "source": [
    "magnet.x_rate.get()"
   ]
  },
  {
   "cell_type": "code",
   "execution_count": 6,
   "metadata": {},
   "outputs": [
    {
     "data": {
      "text/plain": [
       "0.1"
      ]
     },
     "execution_count": 6,
     "metadata": {},
     "output_type": "execute_result"
    }
   ],
   "source": [
    "magnet.x_setpoint.get()"
   ]
  },
  {
   "cell_type": "code",
   "execution_count": 10,
   "metadata": {},
   "outputs": [
    {
     "name": "stdout",
     "output_type": "stream",
     "text": [
      "Current B_x: 0.07\n",
      "Current B_x: 0.10\n"
     ]
    }
   ],
   "source": [
    "print('Current B_x: {:.2f}'.format(magnet.x_fld.get()))\n",
    "\n",
    "magnet.x_fld.set(0.1) # waits until it gets there\n",
    "print('Setting the new field...')\n",
    "\n",
    "print('Current B_x: {:.2f}'.format(magnet.x_fld.get()))\n"
   ]
  },
  {
   "cell_type": "code",
   "execution_count": 12,
   "metadata": {},
   "outputs": [
    {
     "name": "stdout",
     "output_type": "stream",
     "text": [
      "Current B_x: 0.09\n",
      "Current B_x: 0.00\n"
     ]
    }
   ],
   "source": [
    "print('Current B_x: {:.2f}'.format(magnet.x_fld.get()))\n",
    "\n",
    "magnet.x_fld.set(0)# waits until it gets there\n",
    "print('Setting the new field...')\n",
    "\n",
    "print('Current B_x: {:.2f}'.format(magnet.x_fld.get()))\n"
   ]
  },
  {
   "cell_type": "code",
   "execution_count": null,
   "metadata": {},
   "outputs": [],
   "source": []
  }
 ],
 "metadata": {
  "kernelspec": {
   "display_name": "Python 3",
   "language": "python",
   "name": "python3"
  },
  "language_info": {
   "codemirror_mode": {
    "name": "ipython",
    "version": 3
   },
   "file_extension": ".py",
   "mimetype": "text/x-python",
   "name": "python",
   "nbconvert_exporter": "python",
   "pygments_lexer": "ipython3",
   "version": "3.6.4"
  }
 },
 "nbformat": 4,
 "nbformat_minor": 2
}
